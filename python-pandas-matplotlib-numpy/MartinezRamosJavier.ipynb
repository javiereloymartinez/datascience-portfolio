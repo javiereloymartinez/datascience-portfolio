{
 "cells": [
  {
   "cell_type": "markdown",
   "metadata": {
    "collapsed": true
   },
   "source": [
    "<h1 style=\"text-align:center\">\n",
    "    Madrid accidents statistics: Some doodling with Python and the Pandas, Matplotlib and Numpy libraries.\n",
    "</h1>\n",
    "\n",
    "<br>\n",
    "\n",
    "<font color=\"darkblue\">\n",
    "\n",
    "<h3 style=\"text-align:center\">\n",
    "    Javier Eloy Martínez Ramos\n",
    "</h3>\n",
    "    \n",
    "<h3 style=\"text-align:center\">\n",
    "    January 18, 2022\n",
    "</h3>\n",
    "\n",
    "<hr>"
   ]
  },
  {
   "cell_type": "markdown",
   "metadata": {},
   "source": [
    "## Introduction\n",
    "\n",
    "<font color=\"darkblue\"> In this project, we perform some basic data analysis in Python about the traffic accidents in the Madrid Community since 2019. The data comes from a database by the Madrid Municipal Police available in the spanish National Institute of Statistics website. (INE)"
   ]
  },
  {
   "cell_type": "markdown",
   "metadata": {},
   "source": [
    "## a) Some simple operations"
   ]
  },
  {
   "cell_type": "markdown",
   "metadata": {},
   "source": [
    "**Rounding the hour**\n",
    "\n",
    "First we are going to round the hour variable, ignoring the minutes and keeping only the hour int, between 0 and 23."
   ]
  },
  {
   "cell_type": "code",
   "execution_count": 3,
   "metadata": {},
   "outputs": [],
   "source": [
    "def redondeo_hora(hora):\n",
    "    return hora.split(\":\")[0]\n"
   ]
  },
  {
   "cell_type": "code",
   "execution_count": 4,
   "metadata": {},
   "outputs": [
    {
     "name": "stdout",
     "output_type": "stream",
     "text": [
      "12\n"
     ]
    }
   ],
   "source": [
    "# Tests:\n",
    "\n",
    "print(redondeo_hora('12:48'))"
   ]
  },
  {
   "cell_type": "markdown",
   "metadata": {},
   "source": [
    "We want to make several tests:"
   ]
  },
  {
   "cell_type": "code",
   "execution_count": 5,
   "metadata": {},
   "outputs": [
    {
     "name": "stdout",
     "output_type": "stream",
     "text": [
      "15\n",
      "23\n",
      "14\n"
     ]
    }
   ],
   "source": [
    "# Tests:\n",
    "\n",
    "for h in ['15:00', '23:15', '14:22']:\n",
    "    print(redondeo_hora(h))"
   ]
  },
  {
   "cell_type": "markdown",
   "metadata": {},
   "source": [
    "**Age ranges**\n",
    "\n",
    "Now, we want to codify the age ranges, asigning each range a two int interval.\n",
    "For the 'Unknown' ('Desconocida') variable, we are going to use (-1, -1)."
   ]
  },
  {
   "cell_type": "code",
   "execution_count": 6,
   "metadata": {},
   "outputs": [],
   "source": [
    "def rango_edad(rango):\n",
    "    x = ()\n",
    "    b = rango.split(\" \")\n",
    "    \n",
    "    if b[0] == 'DE':\n",
    "        return (int(b[1]), int(b[3]))\n",
    "    elif b[0] == 'MAYOR':\n",
    "        return (int(b[2]), 100)\n",
    "    elif b[0] == 'DESCONOCIDA':\n",
    "        return (-1, -1)"
   ]
  },
  {
   "cell_type": "code",
   "execution_count": 7,
   "metadata": {},
   "outputs": [
    {
     "name": "stdout",
     "output_type": "stream",
     "text": [
      "DE 25 A 29 AÑOS  ->  (25, 29)\n",
      "DESCONOCIDA  ->  (-1, -1)\n",
      "MAYOR DE 74 AÑOS  ->  (74, 100)\n"
     ]
    }
   ],
   "source": [
    "# Pruebas de funcionamiento:\n",
    "\n",
    "for c in  ['DE 25 A 29 AÑOS', 'DESCONOCIDA', 'MAYOR DE 74 AÑOS']:\n",
    "    print(c, \" -> \", rango_edad(c))"
   ]
  },
  {
   "cell_type": "markdown",
   "metadata": {},
   "source": [
    "**Lesividad (damage): missing data**\n",
    "\n",
    "El dato de lesividad viene codificado con un entero:\n",
    "\n",
    "The damage variable comes coded with an int:\n",
    "\n",
    "    01      Urgency attention without further admission. - Low\n",
    "    02      Admission lower or equal than 24 hours - Low\n",
    "    ...\n",
    "    77      Unknown\n",
    "    Blank   No assistance needed\n",
    "\n",
    "We wish to convert this data into an int. When no assistance is needed we are going to codify with 0 in order to keep this homogeneous. When we don't know the damage data (like when the data is simply missing), we are also going to codify it with a 0."
   ]
  },
  {
   "cell_type": "code",
   "execution_count": 8,
   "metadata": {},
   "outputs": [],
   "source": [
    "def lesividad(cod):\n",
    "    if cod == '':\n",
    "        return 0\n",
    "    else:\n",
    "        return int(float(cod))\n"
   ]
  },
  {
   "cell_type": "code",
   "execution_count": 9,
   "metadata": {},
   "outputs": [
    {
     "name": "stdout",
     "output_type": "stream",
     "text": [
      "01  ->  1\n",
      "02  ->  2\n",
      "14  ->  14\n",
      "  ->  0\n",
      "77  ->  77\n"
     ]
    }
   ],
   "source": [
    "# Tests:\n",
    "\n",
    "for c in  ['01', '02', '14', '', '77']:\n",
    "    print(c, \" -> \", lesividad(c))"
   ]
  },
  {
   "cell_type": "markdown",
   "metadata": {},
   "source": [
    "**Operations with a line of data**\n",
    "\n",
    "Each line of the source data looks like this:\n",
    "\n",
    "    linea_9 = \"2020S000073;01/01/2020;18:48;AVDA. PIO XII;81;CHAMARTÍN;Atropello a persona;Despejado;Turismo;Conductor;DE 55 A 59 AÑOS;Hombre;14;;\"\n",
    "\n",
    "Then we can do some basic operations to it, separating its components with the 'split' method and processing them as we might need with some functions like the ones we have up here, 'redondeo_hora' and 'rango_edad'."
   ]
  },
  {
   "cell_type": "code",
   "execution_count": 10,
   "metadata": {},
   "outputs": [],
   "source": [
    "def presentar_operaciones_basicas(linea):\n",
    "    lineasplit = linea.split(\";\")\n",
    "    \n",
    "    print(\"Input string:\\n\",\n",
    "          linea, \"\\n\",\n",
    "          \"\\n\",\n",
    "          \"Pieces:\\n\",\n",
    "          lineasplit, \"\\n\",\n",
    "          \"\\n\",\n",
    "          \"District:\\n\",\n",
    "          lineasplit[5], \"\\n\",\n",
    "          \"\\n\",\n",
    "          \"Hour, without and with rounding:\\n\",\n",
    "          lineasplit[2], \"\\n\",\n",
    "          redondeo_hora(lineasplit[2]), \"\\n\",\n",
    "          \"\\n\",\n",
    "          \"The age as it comes in its range:\\n\",\n",
    "          lineasplit[10], \"\\n\",\n",
    "          rango_edad(lineasplit[10]), \"\\n\"\n",
    "         )\n"
   ]
  },
  {
   "cell_type": "code",
   "execution_count": 11,
   "metadata": {},
   "outputs": [
    {
     "name": "stdout",
     "output_type": "stream",
     "text": [
      "Input string:\n",
      " 2020S000073;01/01/2020;18:48;AVDA. PIO XII;81;CHAMARTÍN;Atropello a persona;Despejado;Turismo;Conductor;DE 55 A 59 AÑOS;Hombre;14;; \n",
      " \n",
      " Pieces:\n",
      " ['2020S000073', '01/01/2020', '18:48', 'AVDA. PIO XII', '81', 'CHAMARTÍN', 'Atropello a persona', 'Despejado', 'Turismo', 'Conductor', 'DE 55 A 59 AÑOS', 'Hombre', '14', '', ''] \n",
      " \n",
      " District:\n",
      " CHAMARTÍN \n",
      " \n",
      " Hour, without and with rounding:\n",
      " 18:48 \n",
      " 18 \n",
      " \n",
      " The age as it comes in its range:\n",
      " DE 55 A 59 AÑOS \n",
      " (55, 59) \n",
      "\n"
     ]
    }
   ],
   "source": [
    "# Tests:\n",
    "\n",
    "linea_9 = \"2020S000073;01/01/2020;18:48;AVDA. PIO XII;81;CHAMARTÍN;Atropello a persona;Despejado;Turismo;Conductor;DE 55 A 59 AÑOS;Hombre;14;;\"\n",
    "presentar_operaciones_basicas(linea_9)"
   ]
  },
  {
   "cell_type": "markdown",
   "metadata": {},
   "source": [
    "Now we are going to build a function to extract the data from the previous function:"
   ]
  },
  {
   "cell_type": "code",
   "execution_count": 18,
   "metadata": {},
   "outputs": [],
   "source": [
    "def extraer_datos(linea):\n",
    "    linea = linea.split(\";\")\n",
    "    \n",
    "    return [redondeo_hora(linea[2]),\n",
    "            linea[5],\n",
    "            linea[7],\n",
    "            rango_edad(linea[10]),\n",
    "            lesividad(linea[12])\n",
    "           ]\n"
   ]
  },
  {
   "cell_type": "code",
   "execution_count": 19,
   "metadata": {},
   "outputs": [
    {
     "name": "stdout",
     "output_type": "stream",
     "text": [
      "15\n",
      "['18', 'CHAMARTÍN', 'Despejado', (55, 59), 14]\n"
     ]
    }
   ],
   "source": [
    "# Tests:\n",
    "\n",
    "print(len(linea_9.split(\";\")))\n",
    "print(extraer_datos(linea_9))"
   ]
  },
  {
   "cell_type": "markdown",
   "metadata": {},
   "source": [
    "## b) Reading data from the file\n",
    "\n",
    "The first function will read the header of the data file and it will break it into the names of the corresponding columns."
   ]
  },
  {
   "cell_type": "code",
   "execution_count": 22,
   "metadata": {},
   "outputs": [],
   "source": [
    "def cargar_cabecera(file):\n",
    "    archivo = open(file, 'r', encoding='ISO-8859–1', errors='ignore')\n",
    "    \n",
    "    linea = archivo.readline()\n",
    "    \n",
    "    archivo.close()\n",
    "    \n",
    "    linea = linea.split(\";\")\n",
    "    \n",
    "    linea[14] = ''\n",
    "    \n",
    "    return linea\n"
   ]
  },
  {
   "cell_type": "code",
   "execution_count": 23,
   "metadata": {},
   "outputs": [
    {
     "name": "stdout",
     "output_type": "stream",
     "text": [
      "['Nº  EXPEDIENTE', 'FECHA', 'HORA', 'CALLE', 'NÚMERO', 'DISTRITO', 'TIPO ACCIDENTE', 'ESTADO METEREOLÓGICO', 'TIPO VEHÍCULO', 'TIPO PERSONA', 'RANGO DE EDAD', 'SEXO', 'LESIVIDAD*', '', '']\n"
     ]
    }
   ],
   "source": [
    "# Test:\n",
    "\n",
    "cabecera = cargar_cabecera(\"2020_Accidentalidad.csv\")\n",
    "print(cabecera)"
   ]
  },
  {
   "cell_type": "markdown",
   "metadata": {},
   "source": [
    "**Reading some lines of the data file**\n",
    "\n",
    "Now we are going to build a function to read some lines from the data file while ignoring the header."
   ]
  },
  {
   "cell_type": "code",
   "execution_count": 24,
   "metadata": {},
   "outputs": [],
   "source": [
    "def cargar_lineas(file, first = 0, last = 9):\n",
    "    archivo = open(file, 'r', encoding='ISO-8859–1', errors='ignore')\n",
    "    \n",
    "    next(archivo)\n",
    "    \n",
    "    conjunto = []\n",
    "    \n",
    "    for linea in archivo:\n",
    "        conjunto.append(extraer_datos(linea))\n",
    "        \n",
    "    archivo.close()\n",
    "        \n",
    "    return conjunto[first : (last + 1)]\n"
   ]
  },
  {
   "cell_type": "code",
   "execution_count": 26,
   "metadata": {},
   "outputs": [
    {
     "name": "stdout",
     "output_type": "stream",
     "text": [
      "['22', 'MONCLOA-ARAVACA', 'Despejado', (21, 24), 6]\n",
      "['20', 'FUENCARRAL-EL PARDO', 'Despejado', (45, 49), 14]\n",
      "['20', 'FUENCARRAL-EL PARDO', 'Despejado', (25, 29), 7]\n",
      "['19', 'CENTRO', 'Despejado', (-1, -1), 0]\n",
      "['23', 'RETIRO', 'Despejado', (25, 29), 0]\n",
      "['22', 'MONCLOA-ARAVACA', 'Despejado', (21, 24), 6]\n",
      "['20', 'FUENCARRAL-EL PARDO', 'Despejado', (45, 49), 14]\n",
      "['20', 'FUENCARRAL-EL PARDO', 'Despejado', (25, 29), 7]\n",
      "['19', 'CENTRO', 'Despejado', (-1, -1), 0]\n",
      "['19', 'CARABANCHEL', 'Despejado', (-1, -1), 14]\n",
      "['19', 'CARABANCHEL', 'Despejado', (21, 24), 2]\n",
      "['18', 'CHAMARTÍN', 'Despejado', (55, 59), 14]\n",
      "['18', 'CHAMARTÍN', 'Despejado', (18, 20), 7]\n",
      "['18', 'ARGANZUELA', '', (55, 59), 14]\n"
     ]
    }
   ],
   "source": [
    "lineas_lista = cargar_lineas(\"2020_Accidentalidad.csv\", 1, 4)\n",
    "\n",
    "for linea in lineas_lista:\n",
    "    print(linea)\n",
    "    \n",
    "# If we don't specify which line we are interested in, the function will load the first ten.\n",
    "\n",
    "lineas_lista = cargar_lineas(\"2020_Accidentalidad.csv\")\n",
    "\n",
    "for linea in lineas_lista:\n",
    "    print(linea)"
   ]
  },
  {
   "cell_type": "markdown",
   "metadata": {},
   "source": [
    "**Reading all of the lines in the data file**\n",
    "\n",
    "Which would be the fastest thing if you don't need specific lines from the data file"
   ]
  },
  {
   "cell_type": "code",
   "execution_count": 27,
   "metadata": {},
   "outputs": [],
   "source": [
    "def cargar_datos(file):\n",
    "    archivo = open(file, 'r', encoding='ISO-8859–1', errors='ignore')\n",
    "    x = []\n",
    "    \n",
    "    # Salto de cabecera\n",
    "    next(archivo)\n",
    "    \n",
    "    for linea in archivo:\n",
    "        x.append(extraer_datos(linea))\n",
    "        \n",
    "    archivo.close()\n",
    "        \n",
    "    return x"
   ]
  },
  {
   "cell_type": "code",
   "execution_count": 28,
   "metadata": {},
   "outputs": [
    {
     "name": "stdout",
     "output_type": "stream",
     "text": [
      "['22', 'MONCLOA-ARAVACA', 'Despejado', (21, 24), 6]\n",
      "['20', 'FUENCARRAL-EL PARDO', 'Despejado', (45, 49), 14]\n",
      "['20', 'FUENCARRAL-EL PARDO', 'Despejado', (25, 29), 7]\n",
      "['19', 'CENTRO', 'Despejado', (-1, -1), 0]\n",
      "['19', 'CARABANCHEL', 'Despejado', (-1, -1), 14]\n",
      "['19', 'CARABANCHEL', 'Despejado', (21, 24), 2]\n",
      "['18', 'CHAMARTÍN', 'Despejado', (55, 59), 14]\n",
      "['18', 'CHAMARTÍN', 'Despejado', (18, 20), 7]\n",
      "['18', 'ARGANZUELA', '', (55, 59), 14]\n",
      "['18', 'ARGANZUELA', '', (35, 39), 14]\n",
      "['16', 'HORTALEZA', 'Despejado', (40, 44), 0]\n",
      "['16', 'HORTALEZA', 'Despejado', (30, 34), 0]\n",
      "['16', 'HORTALEZA', 'Despejado', (-1, -1), 0]\n",
      "['16', 'PUENTE DE VALLECAS', 'Despejado', (45, 49), 14]\n",
      "['16', 'PUENTE DE VALLECAS', 'Despejado', (35, 39), 2]\n",
      "['16', 'PUENTE DE VALLECAS', 'Despejado', (40, 44), 2]\n",
      "['16', 'PUENTE DE VALLECAS', 'Despejado', (45, 49), 2]\n",
      "['15', 'HORTALEZA', 'Despejado', (21, 24), 14]\n",
      "['15', 'HORTALEZA', 'Despejado', (18, 20), 0]\n"
     ]
    }
   ],
   "source": [
    "# Tests:\n",
    "\n",
    "datos_lista = cargar_datos(\"2020_Accidentalidad.csv\")\n",
    "\n",
    "# For space purposes, we are only going to print the first 20 lines.\n",
    "\n",
    "for linea in datos_lista[1:20]:\n",
    "    print(linea)    "
   ]
  },
  {
   "cell_type": "markdown",
   "metadata": {},
   "source": [
    "## c) Damages and mortality by age\n",
    "\n",
    "**Damages**\n",
    "\n",
    "We want to sum the number of accidents by age group."
   ]
  },
  {
   "cell_type": "code",
   "execution_count": 29,
   "metadata": {
    "scrolled": true
   },
   "outputs": [],
   "source": [
    "def totales(lista):\n",
    "    diccionario = {}\n",
    "    \n",
    "    # linea[3] es el rango de edad\n",
    "    for linea in lista:\n",
    "        if linea[3] in diccionario:\n",
    "            diccionario[linea[3]] += 1\n",
    "        else:\n",
    "            diccionario[linea[3]] = 1\n",
    "        \n",
    "    if diccionario == {}:\n",
    "        return {0}\n",
    "    else:\n",
    "        return diccionario"
   ]
  },
  {
   "cell_type": "code",
   "execution_count": 30,
   "metadata": {},
   "outputs": [
    {
     "name": "stdout",
     "output_type": "stream",
     "text": [
      "(25, 29) 3437\n",
      "(21, 24) 2226\n",
      "(45, 49) 3084\n",
      "(-1, -1) 3962\n",
      "(55, 59) 2077\n",
      "(18, 20) 978\n",
      "(35, 39) 3332\n",
      "(40, 44) 3399\n",
      "(30, 34) 3362\n",
      "(50, 54) 2547\n",
      "(60, 64) 1272\n",
      "(65, 69) 641\n",
      "(15, 17) 250\n",
      "(70, 74) 427\n",
      "(74, 100) 657\n",
      "(0, 5) 289\n",
      "(6, 9) 175\n",
      "(10, 14) 305\n"
     ]
    }
   ],
   "source": [
    "# Tests:\n",
    "\n",
    "total_accidentes_por_edades = totales(datos_lista)\n",
    "\n",
    "for k, e in total_accidentes_por_edades.items():\n",
    "    print(k, e)"
   ]
  },
  {
   "cell_type": "markdown",
   "metadata": {},
   "source": [
    "**Accidents with mortality**\n",
    "\n",
    "We want to know how many accidents were registered by age group along with the number of deaths. "
   ]
  },
  {
   "cell_type": "code",
   "execution_count": 31,
   "metadata": {},
   "outputs": [],
   "source": [
    "def totales_mortales(lista):\n",
    "    # Dictionary with the number of accidents by age group\n",
    "    diccionario = {}\n",
    "    \n",
    "    # Dictionary with the number of deaths by age group\n",
    "    diccionario_04 = {}\n",
    "    \n",
    "    # Compilation of the number of accidents\n",
    "    for linea in lista:\n",
    "        # linea[3] is the age range\n",
    "        if linea[3] in diccionario:\n",
    "            diccionario[linea[3]] += 1\n",
    "        else:\n",
    "            diccionario[linea[3]] = 1\n",
    "    \n",
    "    # Compilation of the number of deaths\n",
    "    for linea in lista:\n",
    "        # linea[4] is the damage code (where 4 means death)\n",
    "        if linea[3] in diccionario_04 and linea[4] == 4:\n",
    "            diccionario_04[linea[3]] += 1\n",
    "        elif linea[3] in diccionario_04 and linea[4] != 4:\n",
    "            diccionario_04[linea[3]] = diccionario_04[linea[3]]\n",
    "        elif linea[4] == 4:\n",
    "            diccionario_04[linea[3]] = 1\n",
    "        else:\n",
    "            diccionario_04[linea[3]] = 0\n",
    "    \n",
    "    for key1, key2 in diccionario:\n",
    "        diccionario[(key1, key2)] = (\n",
    "            diccionario[(key1, key2)],\n",
    "            diccionario_04[(key1, key2)]\n",
    "        )\n",
    "        \n",
    "    return diccionario.items()"
   ]
  },
  {
   "cell_type": "code",
   "execution_count": 33,
   "metadata": {},
   "outputs": [
    {
     "name": "stdout",
     "output_type": "stream",
     "text": [
      "(25, 29) (3437, 3)\n",
      "(21, 24) (2226, 2)\n",
      "(45, 49) (3084, 4)\n",
      "(-1, -1) (3962, 0)\n",
      "(55, 59) (2077, 1)\n",
      "(18, 20) (978, 0)\n",
      "(35, 39) (3332, 8)\n",
      "(40, 44) (3399, 6)\n",
      "(30, 34) (3362, 2)\n",
      "(50, 54) (2547, 1)\n",
      "(60, 64) (1272, 1)\n",
      "(65, 69) (641, 1)\n",
      "(15, 17) (250, 0)\n",
      "(70, 74) (427, 1)\n",
      "(74, 100) (657, 4)\n",
      "(0, 5) (289, 1)\n",
      "(6, 9) (175, 0)\n",
      "(10, 14) (305, 0)\n",
      "((25, 29), 0.8728542333430317)\n",
      "((21, 24), 0.8984725965858041)\n",
      "((45, 49), 1.297016861219196)\n",
      "((-1, -1), 0.0)\n",
      "((55, 59), 0.4814636494944632)\n",
      "((18, 20), 0.0)\n",
      "((35, 39), 2.4009603841536613)\n",
      "((40, 44), 1.7652250661959399)\n",
      "((30, 34), 0.594883997620464)\n",
      "((50, 54), 0.39261876717707106)\n",
      "((60, 64), 0.7861635220125787)\n",
      "((65, 69), 1.5600624024960998)\n",
      "((15, 17), 0.0)\n",
      "((70, 74), 2.34192037470726)\n",
      "((74, 100), 6.0882800608828)\n",
      "((0, 5), 3.4602076124567476)\n",
      "((6, 9), 0.0)\n",
      "((10, 14), 0.0)\n"
     ]
    }
   ],
   "source": [
    "# Tests:\n",
    "\n",
    "total_accidentes_y_muertes_por_edades = totales_mortales(datos_lista)\n",
    "\n",
    "for k, totales in total_accidentes_y_muertes_por_edades:\n",
    "    print(k, totales)\n",
    "\n",
    "# Total of deadly accidents / 1000 accidents, by age group (deadly accident rate):\n",
    "\n",
    "tasa_accidentes_mortales_por_mil = [\n",
    "    (k, m*1000/n) for k, \n",
    "    (n, m) in total_accidentes_y_muertes_por_edades\n",
    "]\n",
    "                                    \n",
    "for k_tasa  in tasa_accidentes_mortales_por_mil:\n",
    "    print(k_tasa)                           "
   ]
  },
  {
   "cell_type": "markdown",
   "metadata": {},
   "source": [
    "## d) Some graphics\n",
    "\n",
    "We are going to build a basic graphic model that will work in the next exercises.  "
   ]
  },
  {
   "cell_type": "code",
   "execution_count": 37,
   "metadata": {},
   "outputs": [],
   "source": [
    "def representar_xxx_yyy(coordenadas, rotulos):\n",
    "    \n",
    "    import matplotlib.pyplot as plt\n",
    "    \n",
    "    x = []\n",
    "    y = []\n",
    "    \n",
    "    if type(coordenadas[0][0]) == tuple:\n",
    "        indice = 0\n",
    "        xlabels = []\n",
    "        for a, b in coordenadas:\n",
    "            xlabels.append('(' + str(a[0]) + ', ' + str(a[1]) + ')')\n",
    "            indice += 1\n",
    "            \n",
    "            x.append(indice)\n",
    "            y.append(b)\n",
    "            \n",
    "            plt.xticks(x, xlabels)\n",
    "    else:\n",
    "        for elem in coordenadas:\n",
    "            x.append(elem[0])\n",
    "            y.append(elem[1])\n",
    "            \n",
    "    plt.plot(x, y)\n",
    "    \n",
    "    if rotulos == []:\n",
    "        title = ''\n",
    "        ylabel = ''\n",
    "        xlabel = ''\n",
    "    else:\n",
    "        title = rotulos[0]\n",
    "        ylabel = rotulos[1]\n",
    "        xlabel = rotulos[2]\n",
    "    \n",
    "    plt.xlabel(xlabel, fontsize = 18)\n",
    "    plt.ylabel(ylabel, fontsize = 18)\n",
    "    plt.title(title, fontsize = 18)\n",
    "    \n",
    "    plt.xticks(rotation = 65, fontsize = 14)\n",
    "    plt.yticks(fontsize = 14)\n",
    "    \n",
    "    plt.grid(True)\n",
    "    \n",
    "    plt.rcParams[\"figure.figsize\"] = (6, 5)\n",
    "    \n",
    "    return plt.show()"
   ]
  },
  {
   "cell_type": "code",
   "execution_count": 38,
   "metadata": {},
   "outputs": [
    {
     "data": {
      "image/png": "[encoded data removed]",
      "text/plain": [
       "<Figure size 432x360 with 1 Axes>"
      ]
     },
     "metadata": {
      "needs_background": "light"
     },
     "output_type": "display_data"
    },
    {
     "data": {
      "image/png": "[encoded data removed]",
      "text/plain": [
       "<Figure size 432x360 with 1 Axes>"
      ]
     },
     "metadata": {
      "needs_background": "light"
     },
     "output_type": "display_data"
    }
   ],
   "source": [
    "# Tests:\n",
    "\n",
    "representar_xxx_yyy(\n",
    "    [(1, 8), (2, 4), (3, 2), (4, 1), (5, 0.5), (6, 0.25)], \n",
    "    [\"Main graphic\", \"X\", \"Y\"]\n",
    ")\n",
    "\n",
    "representar_xxx_yyy(\n",
    "    [(1, 1), (2, 2), (3, 4), (4, 8), (5, 16), (6, 32)], \n",
    "    []\n",
    ")"
   ]
  },
  {
   "cell_type": "markdown",
   "metadata": {},
   "source": [
    "**Death rate by ages** \n",
    "\n",
    "We are going to apply our graphic model to the deadly accident rates that we got earlier, but we are getting a graphic that is not too adequate because the ages are not sorted."
   ]
  },
  {
   "cell_type": "code",
   "execution_count": 39,
   "metadata": {},
   "outputs": [
    {
     "data": {
      "image/png": "[encoded data removed]",
      "text/plain": [
       "<Figure size 432x360 with 1 Axes>"
      ]
     },
     "metadata": {
      "needs_background": "light"
     },
     "output_type": "display_data"
    }
   ],
   "source": [
    "# Test:\n",
    "\n",
    "rotulos = \"Deadly accident rate by age group\", \"Deadly accident rate\", \"Age group\"\n",
    "representar_xxx_yyy(tasa_accidentes_mortales_por_mil, rotulos)"
   ]
  },
  {
   "cell_type": "markdown",
   "metadata": {},
   "source": [
    "In order to solve this we have to sort the age groups (including '(-1, -1)') like this:"
   ]
  },
  {
   "cell_type": "code",
   "execution_count": 41,
   "metadata": {},
   "outputs": [
    {
     "data": {
      "text/plain": [
       "((-1, -1), 0.0)"
      ]
     },
     "execution_count": 41,
     "metadata": {},
     "output_type": "execute_result"
    }
   ],
   "source": [
    "def ordenar_tasa_04(lista):\n",
    "    return lista[0]\n",
    "\n",
    "tasa_accidentes_mortales_por_mil.sort(key = ordenar_tasa_04)\n",
    "\n",
    "tasa_accidentes_mortales_por_mil.pop(0)"
   ]
  },
  {
   "cell_type": "code",
   "execution_count": 42,
   "metadata": {},
   "outputs": [
    {
     "data": {
      "image/png": "[encoded data removed]",
      "text/plain": [
       "<Figure size 432x360 with 1 Axes>"
      ]
     },
     "metadata": {
      "needs_background": "light"
     },
     "output_type": "display_data"
    }
   ],
   "source": [
    "# Tests:\n",
    "\n",
    "representar_xxx_yyy(tasa_accidentes_mortales_por_mil, rotulos)"
   ]
  },
  {
   "cell_type": "markdown",
   "metadata": {},
   "source": [
    "**Death rate by time groups** \n",
    "\n",
    "Now we are going to do the same but with time groups, we are not going to take into account the minutes and we are going to group the hours by pairs."
   ]
  },
  {
   "cell_type": "code",
   "execution_count": 43,
   "metadata": {},
   "outputs": [],
   "source": [
    "def totales_mortales_por_horario(lista):\n",
    "    horas = list(range(0, 24, 2))\n",
    "    accidentes_hr = dict.fromkeys(horas)\n",
    "    muertes_hr = dict.fromkeys(horas) \n",
    "    # Career Karma: Python Convert List to Dictionary: A Complete Guide\n",
    "    \n",
    "    for elem in accidentes_hr:\n",
    "        accidentes_hr[elem] = 0\n",
    "    \n",
    "    for elem in muertes_hr:\n",
    "        muertes_hr[elem] = 0\n",
    "    \n",
    "    for linea in lista:\n",
    "        linea[0] = int(linea[0])\n",
    "        # If the hour can be divided by 2 and there is death:\n",
    "        if linea[0] in horas and linea[4] == 4:\n",
    "            accidentes_hr[linea[0]] += 1\n",
    "            muertes_hr[linea[0]] += 1\n",
    "        elif linea[0] in horas:\n",
    "            accidentes_hr[linea[0]] += 1\n",
    "        elif linea[4] == 4:\n",
    "            accidentes_hr[linea[0] - 1] += 1\n",
    "            muertes_hr[linea[0] - 1] += 1\n",
    "        else:\n",
    "            accidentes_hr[linea[0] - 1] += 1\n",
    "    \n",
    "    # tasa_accidentes_mortales_por_mil = [(k, m*1000/n) for k, (n, m) in total_accidentes_y_muertes_por_edades]\n",
    "    \n",
    "    tasa_muertes_hr = []\n",
    "    \n",
    "    for elem in muertes_hr:\n",
    "        tasa_muertes_hr.append(\n",
    "            (\n",
    "                elem,\n",
    "                (muertes_hr[elem] * 1000 / accidentes_hr[elem])\n",
    "            )\n",
    "        )\n",
    "    \n",
    "    return tasa_muertes_hr\n",
    "    \n",
    "def emparejar_abcisas(lista):\n",
    "    resultado = []\n",
    "    \n",
    "    for elem in lista:\n",
    "        resultado.append(\n",
    "            tuple([\n",
    "                str(\n",
    "                    tuple([ elem[0], elem[0] + 2 ])\n",
    "                ),\n",
    "                elem[1]\n",
    "            ])\n",
    "        )\n",
    "    \n",
    "    return resultado"
   ]
  },
  {
   "cell_type": "code",
   "execution_count": 44,
   "metadata": {},
   "outputs": [
    {
     "name": "stdout",
     "output_type": "stream",
     "text": [
      "[(0, 1.9230769230769231), (2, 4.178272980501393), (4, 1.949317738791423), (6, 0.8635578583765112), (8, 1.1415525114155252), (10, 1.5337423312883436), (12, 0.8234971177600878), (14, 1.112099644128114), (16, 0.5351886540005352), (18, 0.4287245444801715), (20, 1.1999040076793857), (22, 1.187178472497032)]\n",
      "\n",
      "[('(0, 2)', 1.9230769230769231), ('(2, 4)', 4.178272980501393), ('(4, 6)', 1.949317738791423), ('(6, 8)', 0.8635578583765112), ('(8, 10)', 1.1415525114155252), ('(10, 12)', 1.5337423312883436), ('(12, 14)', 0.8234971177600878), ('(14, 16)', 1.112099644128114), ('(16, 18)', 0.5351886540005352), ('(18, 20)', 0.4287245444801715), ('(20, 22)', 1.1999040076793857), ('(22, 24)', 1.187178472497032)]\n"
     ]
    },
    {
     "data": {
      "image/png": "[encoded data removed]",
      "text/plain": [
       "<Figure size 432x360 with 1 Axes>"
      ]
     },
     "metadata": {
      "needs_background": "light"
     },
     "output_type": "display_data"
    }
   ],
   "source": [
    "# Tests:\n",
    "\n",
    "tasas_accidentes_y_muertes_por_horario = totales_mortales_por_horario(datos_lista)\n",
    "\n",
    "print(tasas_accidentes_y_muertes_por_horario)\n",
    "\n",
    "print()\n",
    "\n",
    "datos_para_grafica = emparejar_abcisas(tasas_accidentes_y_muertes_por_horario)\n",
    "\n",
    "print(datos_para_grafica)\n",
    "\n",
    "rotulos = \"Death rate in accidents by time groups\", \"Death rate\", \"Time groups\"\n",
    "representar_xxx_yyy(datos_para_grafica, rotulos)"
   ]
  },
  {
   "cell_type": "markdown",
   "metadata": {},
   "source": [
    "## Some operations with dataframes\n",
    "\n",
    "Now, we are going to work with the Pandas library.\n",
    "\n",
    "**Loading the dataframe**\n",
    "\n",
    "First we are going to load the data file into a dataframe in Python:"
   ]
  },
  {
   "cell_type": "code",
   "execution_count": 45,
   "metadata": {},
   "outputs": [],
   "source": [
    "import pandas\n",
    "\n",
    "def cargar_dataframe_v0(file):\n",
    "    dataframe = pandas.read_csv(file, encoding = 'ISO-8859–1', encoding_errors = 'ignore', sep = ';')\n",
    "    \n",
    "    dataframe = dataframe[['HORA', 'DISTRITO', 'RANGO DE EDAD', 'LESIVIDAD*']]\n",
    "    \n",
    "    return dataframe\n"
   ]
  },
  {
   "cell_type": "code",
   "execution_count": 46,
   "metadata": {},
   "outputs": [
    {
     "name": "stdout",
     "output_type": "stream",
     "text": [
      "        HORA             DISTRITO    RANGO DE EDAD  LESIVIDAD*\n",
      "0      23:15               RETIRO  DE 25 A 29 AÑOS         NaN\n",
      "1      22:35      MONCLOA-ARAVACA  DE 21 A 24 AÑOS         6.0\n",
      "2      20:15  FUENCARRAL-EL PARDO  DE 45 A 49 AÑOS        14.0\n",
      "3      20:15  FUENCARRAL-EL PARDO  DE 25 A 29 AÑOS         7.0\n",
      "4      19:45               CENTRO      DESCONOCIDA         NaN\n",
      "...      ...                  ...              ...         ...\n",
      "32415   0:18            CHAMARTÍN  DE 35 A 39 AÑOS         NaN\n",
      "32416   0:18            CHAMARTÍN  DE 35 A 39 AÑOS         NaN\n",
      "32417   0:18            CHAMARTÍN  DE 35 A 39 AÑOS         NaN\n",
      "32418   0:18            CHAMARTÍN  DE 35 A 39 AÑOS         NaN\n",
      "32419   0:18            CHAMARTÍN  DE 35 A 39 AÑOS         NaN\n",
      "\n",
      "[32420 rows x 4 columns]\n"
     ]
    }
   ],
   "source": [
    "tabla_pre = cargar_dataframe_v0(\"2020_Accidentalidad.csv\")\n",
    "print(tabla_pre)"
   ]
  },
  {
   "cell_type": "markdown",
   "metadata": {},
   "source": [
    "Now, we want to modify the data so that we can see the age groups like an interval. Also, the damage variable has been read like an int and the blank ones are now a NaN (not a number). Now this will become a 0 when we don't have any data and a 1 when there is damage. "
   ]
  },
  {
   "cell_type": "code",
   "execution_count": 47,
   "metadata": {
    "scrolled": true
   },
   "outputs": [],
   "source": [
    "import numpy\n",
    "\n",
    "def cargar_dataframe(file):\n",
    "    dataframe = pandas.read_csv(file, encoding = 'ISO-8859–1', encoding_errors = 'ignore', sep = ';')\n",
    "    \n",
    "    dataframe = dataframe[['HORA', 'DISTRITO', 'RANGO DE EDAD', 'LESIVIDAD*']]\n",
    "    \n",
    "    for index, row in dataframe.iterrows():\n",
    "        if numpy.isnan(dataframe.iloc[index][3]) or dataframe.iloc[index][3] == 14 or dataframe.iloc[index][3] == 77:\n",
    "            dataframe.loc[index, 'LESIVIDAD*'] = 0\n",
    "        else:\n",
    "            dataframe.loc[index, 'LESIVIDAD*'] = 1\n",
    "    \n",
    "    dataframe['RANGO DE EDAD'] = dataframe['RANGO DE EDAD'].apply(rango_edad)\n",
    "    \n",
    "    dataframe['LESIVIDAD*'] = dataframe['LESIVIDAD*'].astype(int)\n",
    "    \n",
    "    return dataframe\n"
   ]
  },
  {
   "cell_type": "code",
   "execution_count": 48,
   "metadata": {
    "scrolled": true
   },
   "outputs": [
    {
     "data": {
      "text/html": [
       "<div>\n",
       "<style scoped>\n",
       "    .dataframe tbody tr th:only-of-type {\n",
       "        vertical-align: middle;\n",
       "    }\n",
       "\n",
       "    .dataframe tbody tr th {\n",
       "        vertical-align: top;\n",
       "    }\n",
       "\n",
       "    .dataframe thead th {\n",
       "        text-align: right;\n",
       "    }\n",
       "</style>\n",
       "<table border=\"1\" class=\"dataframe\">\n",
       "  <thead>\n",
       "    <tr style=\"text-align: right;\">\n",
       "      <th></th>\n",
       "      <th>HORA</th>\n",
       "      <th>DISTRITO</th>\n",
       "      <th>RANGO DE EDAD</th>\n",
       "      <th>LESIVIDAD*</th>\n",
       "    </tr>\n",
       "  </thead>\n",
       "  <tbody>\n",
       "    <tr>\n",
       "      <th>0</th>\n",
       "      <td>23:15</td>\n",
       "      <td>RETIRO</td>\n",
       "      <td>(25, 29)</td>\n",
       "      <td>0</td>\n",
       "    </tr>\n",
       "    <tr>\n",
       "      <th>1</th>\n",
       "      <td>22:35</td>\n",
       "      <td>MONCLOA-ARAVACA</td>\n",
       "      <td>(21, 24)</td>\n",
       "      <td>1</td>\n",
       "    </tr>\n",
       "    <tr>\n",
       "      <th>2</th>\n",
       "      <td>20:15</td>\n",
       "      <td>FUENCARRAL-EL PARDO</td>\n",
       "      <td>(45, 49)</td>\n",
       "      <td>0</td>\n",
       "    </tr>\n",
       "    <tr>\n",
       "      <th>3</th>\n",
       "      <td>20:15</td>\n",
       "      <td>FUENCARRAL-EL PARDO</td>\n",
       "      <td>(25, 29)</td>\n",
       "      <td>1</td>\n",
       "    </tr>\n",
       "    <tr>\n",
       "      <th>4</th>\n",
       "      <td>19:45</td>\n",
       "      <td>CENTRO</td>\n",
       "      <td>(-1, -1)</td>\n",
       "      <td>0</td>\n",
       "    </tr>\n",
       "    <tr>\n",
       "      <th>...</th>\n",
       "      <td>...</td>\n",
       "      <td>...</td>\n",
       "      <td>...</td>\n",
       "      <td>...</td>\n",
       "    </tr>\n",
       "    <tr>\n",
       "      <th>32415</th>\n",
       "      <td>0:18</td>\n",
       "      <td>CHAMARTÍN</td>\n",
       "      <td>(35, 39)</td>\n",
       "      <td>0</td>\n",
       "    </tr>\n",
       "    <tr>\n",
       "      <th>32416</th>\n",
       "      <td>0:18</td>\n",
       "      <td>CHAMARTÍN</td>\n",
       "      <td>(35, 39)</td>\n",
       "      <td>0</td>\n",
       "    </tr>\n",
       "    <tr>\n",
       "      <th>32417</th>\n",
       "      <td>0:18</td>\n",
       "      <td>CHAMARTÍN</td>\n",
       "      <td>(35, 39)</td>\n",
       "      <td>0</td>\n",
       "    </tr>\n",
       "    <tr>\n",
       "      <th>32418</th>\n",
       "      <td>0:18</td>\n",
       "      <td>CHAMARTÍN</td>\n",
       "      <td>(35, 39)</td>\n",
       "      <td>0</td>\n",
       "    </tr>\n",
       "    <tr>\n",
       "      <th>32419</th>\n",
       "      <td>0:18</td>\n",
       "      <td>CHAMARTÍN</td>\n",
       "      <td>(35, 39)</td>\n",
       "      <td>0</td>\n",
       "    </tr>\n",
       "  </tbody>\n",
       "</table>\n",
       "<p>32420 rows × 4 columns</p>\n",
       "</div>"
      ],
      "text/plain": [
       "        HORA             DISTRITO RANGO DE EDAD  LESIVIDAD*\n",
       "0      23:15               RETIRO      (25, 29)           0\n",
       "1      22:35      MONCLOA-ARAVACA      (21, 24)           1\n",
       "2      20:15  FUENCARRAL-EL PARDO      (45, 49)           0\n",
       "3      20:15  FUENCARRAL-EL PARDO      (25, 29)           1\n",
       "4      19:45               CENTRO      (-1, -1)           0\n",
       "...      ...                  ...           ...         ...\n",
       "32415   0:18            CHAMARTÍN      (35, 39)           0\n",
       "32416   0:18            CHAMARTÍN      (35, 39)           0\n",
       "32417   0:18            CHAMARTÍN      (35, 39)           0\n",
       "32418   0:18            CHAMARTÍN      (35, 39)           0\n",
       "32419   0:18            CHAMARTÍN      (35, 39)           0\n",
       "\n",
       "[32420 rows x 4 columns]"
      ]
     },
     "execution_count": 48,
     "metadata": {},
     "output_type": "execute_result"
    }
   ],
   "source": [
    "tabla = cargar_dataframe(\"2020_Accidentalidad.csv\")\n",
    "tabla"
   ]
  },
  {
   "cell_type": "markdown",
   "metadata": {},
   "source": [
    "**Number of accidents by age group: Table**\n",
    "\n",
    "We are only interested in two columns: Age and Number of Accidents to make a new table."
   ]
  },
  {
   "cell_type": "code",
   "execution_count": 49,
   "metadata": {},
   "outputs": [
    {
     "data": {
      "text/html": [
       "<div>\n",
       "<style scoped>\n",
       "    .dataframe tbody tr th:only-of-type {\n",
       "        vertical-align: middle;\n",
       "    }\n",
       "\n",
       "    .dataframe tbody tr th {\n",
       "        vertical-align: top;\n",
       "    }\n",
       "\n",
       "    .dataframe thead th {\n",
       "        text-align: right;\n",
       "    }\n",
       "</style>\n",
       "<table border=\"1\" class=\"dataframe\">\n",
       "  <thead>\n",
       "    <tr style=\"text-align: right;\">\n",
       "      <th></th>\n",
       "      <th>Edad</th>\n",
       "      <th>NumAccs</th>\n",
       "    </tr>\n",
       "  </thead>\n",
       "  <tbody>\n",
       "    <tr>\n",
       "      <th>0</th>\n",
       "      <td>(-1, -1)</td>\n",
       "      <td>3962</td>\n",
       "    </tr>\n",
       "    <tr>\n",
       "      <th>1</th>\n",
       "      <td>(0, 5)</td>\n",
       "      <td>289</td>\n",
       "    </tr>\n",
       "    <tr>\n",
       "      <th>2</th>\n",
       "      <td>(6, 9)</td>\n",
       "      <td>175</td>\n",
       "    </tr>\n",
       "    <tr>\n",
       "      <th>3</th>\n",
       "      <td>(10, 14)</td>\n",
       "      <td>305</td>\n",
       "    </tr>\n",
       "    <tr>\n",
       "      <th>4</th>\n",
       "      <td>(15, 17)</td>\n",
       "      <td>250</td>\n",
       "    </tr>\n",
       "    <tr>\n",
       "      <th>5</th>\n",
       "      <td>(18, 20)</td>\n",
       "      <td>978</td>\n",
       "    </tr>\n",
       "    <tr>\n",
       "      <th>6</th>\n",
       "      <td>(21, 24)</td>\n",
       "      <td>2226</td>\n",
       "    </tr>\n",
       "    <tr>\n",
       "      <th>7</th>\n",
       "      <td>(25, 29)</td>\n",
       "      <td>3437</td>\n",
       "    </tr>\n",
       "    <tr>\n",
       "      <th>8</th>\n",
       "      <td>(30, 34)</td>\n",
       "      <td>3362</td>\n",
       "    </tr>\n",
       "    <tr>\n",
       "      <th>9</th>\n",
       "      <td>(35, 39)</td>\n",
       "      <td>3332</td>\n",
       "    </tr>\n",
       "    <tr>\n",
       "      <th>10</th>\n",
       "      <td>(40, 44)</td>\n",
       "      <td>3399</td>\n",
       "    </tr>\n",
       "    <tr>\n",
       "      <th>11</th>\n",
       "      <td>(45, 49)</td>\n",
       "      <td>3084</td>\n",
       "    </tr>\n",
       "    <tr>\n",
       "      <th>12</th>\n",
       "      <td>(50, 54)</td>\n",
       "      <td>2547</td>\n",
       "    </tr>\n",
       "    <tr>\n",
       "      <th>13</th>\n",
       "      <td>(55, 59)</td>\n",
       "      <td>2077</td>\n",
       "    </tr>\n",
       "    <tr>\n",
       "      <th>14</th>\n",
       "      <td>(60, 64)</td>\n",
       "      <td>1272</td>\n",
       "    </tr>\n",
       "    <tr>\n",
       "      <th>15</th>\n",
       "      <td>(65, 69)</td>\n",
       "      <td>641</td>\n",
       "    </tr>\n",
       "    <tr>\n",
       "      <th>16</th>\n",
       "      <td>(70, 74)</td>\n",
       "      <td>427</td>\n",
       "    </tr>\n",
       "    <tr>\n",
       "      <th>17</th>\n",
       "      <td>(74, 100)</td>\n",
       "      <td>657</td>\n",
       "    </tr>\n",
       "  </tbody>\n",
       "</table>\n",
       "</div>"
      ],
      "text/plain": [
       "         Edad  NumAccs\n",
       "0    (-1, -1)     3962\n",
       "1      (0, 5)      289\n",
       "2      (6, 9)      175\n",
       "3    (10, 14)      305\n",
       "4    (15, 17)      250\n",
       "5    (18, 20)      978\n",
       "6    (21, 24)     2226\n",
       "7    (25, 29)     3437\n",
       "8    (30, 34)     3362\n",
       "9    (35, 39)     3332\n",
       "10   (40, 44)     3399\n",
       "11   (45, 49)     3084\n",
       "12   (50, 54)     2547\n",
       "13   (55, 59)     2077\n",
       "14   (60, 64)     1272\n",
       "15   (65, 69)      641\n",
       "16   (70, 74)      427\n",
       "17  (74, 100)      657"
      ]
     },
     "execution_count": 49,
     "metadata": {},
     "output_type": "execute_result"
    }
   ],
   "source": [
    "tabla_conteo_por_edades = tabla.groupby('RANGO DE EDAD').count().reset_index()\n",
    "\n",
    "tabla_conteo_por_edades = tabla_conteo_por_edades[['RANGO DE EDAD', 'LESIVIDAD*']]\n",
    "\n",
    "tabla_conteo_por_edades = tabla_conteo_por_edades.rename(\n",
    "    {'RANGO DE EDAD': 'Edad', 'LESIVIDAD*': 'NumAccs'}, axis='columns')\n",
    "\n",
    "tabla_conteo_por_edades"
   ]
  },
  {
   "cell_type": "markdown",
   "metadata": {},
   "source": [
    "This table contains the age group '(-1, -1)', but we don't care about it, so we're going to delete it."
   ]
  },
  {
   "cell_type": "code",
   "execution_count": 50,
   "metadata": {},
   "outputs": [
    {
     "data": {
      "text/html": [
       "<div>\n",
       "<style scoped>\n",
       "    .dataframe tbody tr th:only-of-type {\n",
       "        vertical-align: middle;\n",
       "    }\n",
       "\n",
       "    .dataframe tbody tr th {\n",
       "        vertical-align: top;\n",
       "    }\n",
       "\n",
       "    .dataframe thead th {\n",
       "        text-align: right;\n",
       "    }\n",
       "</style>\n",
       "<table border=\"1\" class=\"dataframe\">\n",
       "  <thead>\n",
       "    <tr style=\"text-align: right;\">\n",
       "      <th></th>\n",
       "      <th>Edad</th>\n",
       "      <th>NumAccs</th>\n",
       "    </tr>\n",
       "  </thead>\n",
       "  <tbody>\n",
       "    <tr>\n",
       "      <th>1</th>\n",
       "      <td>(0, 5)</td>\n",
       "      <td>289</td>\n",
       "    </tr>\n",
       "    <tr>\n",
       "      <th>2</th>\n",
       "      <td>(6, 9)</td>\n",
       "      <td>175</td>\n",
       "    </tr>\n",
       "    <tr>\n",
       "      <th>3</th>\n",
       "      <td>(10, 14)</td>\n",
       "      <td>305</td>\n",
       "    </tr>\n",
       "    <tr>\n",
       "      <th>4</th>\n",
       "      <td>(15, 17)</td>\n",
       "      <td>250</td>\n",
       "    </tr>\n",
       "    <tr>\n",
       "      <th>5</th>\n",
       "      <td>(18, 20)</td>\n",
       "      <td>978</td>\n",
       "    </tr>\n",
       "    <tr>\n",
       "      <th>6</th>\n",
       "      <td>(21, 24)</td>\n",
       "      <td>2226</td>\n",
       "    </tr>\n",
       "    <tr>\n",
       "      <th>7</th>\n",
       "      <td>(25, 29)</td>\n",
       "      <td>3437</td>\n",
       "    </tr>\n",
       "    <tr>\n",
       "      <th>8</th>\n",
       "      <td>(30, 34)</td>\n",
       "      <td>3362</td>\n",
       "    </tr>\n",
       "    <tr>\n",
       "      <th>9</th>\n",
       "      <td>(35, 39)</td>\n",
       "      <td>3332</td>\n",
       "    </tr>\n",
       "    <tr>\n",
       "      <th>10</th>\n",
       "      <td>(40, 44)</td>\n",
       "      <td>3399</td>\n",
       "    </tr>\n",
       "    <tr>\n",
       "      <th>11</th>\n",
       "      <td>(45, 49)</td>\n",
       "      <td>3084</td>\n",
       "    </tr>\n",
       "    <tr>\n",
       "      <th>12</th>\n",
       "      <td>(50, 54)</td>\n",
       "      <td>2547</td>\n",
       "    </tr>\n",
       "    <tr>\n",
       "      <th>13</th>\n",
       "      <td>(55, 59)</td>\n",
       "      <td>2077</td>\n",
       "    </tr>\n",
       "    <tr>\n",
       "      <th>14</th>\n",
       "      <td>(60, 64)</td>\n",
       "      <td>1272</td>\n",
       "    </tr>\n",
       "    <tr>\n",
       "      <th>15</th>\n",
       "      <td>(65, 69)</td>\n",
       "      <td>641</td>\n",
       "    </tr>\n",
       "    <tr>\n",
       "      <th>16</th>\n",
       "      <td>(70, 74)</td>\n",
       "      <td>427</td>\n",
       "    </tr>\n",
       "    <tr>\n",
       "      <th>17</th>\n",
       "      <td>(74, 100)</td>\n",
       "      <td>657</td>\n",
       "    </tr>\n",
       "  </tbody>\n",
       "</table>\n",
       "</div>"
      ],
      "text/plain": [
       "         Edad  NumAccs\n",
       "1      (0, 5)      289\n",
       "2      (6, 9)      175\n",
       "3    (10, 14)      305\n",
       "4    (15, 17)      250\n",
       "5    (18, 20)      978\n",
       "6    (21, 24)     2226\n",
       "7    (25, 29)     3437\n",
       "8    (30, 34)     3362\n",
       "9    (35, 39)     3332\n",
       "10   (40, 44)     3399\n",
       "11   (45, 49)     3084\n",
       "12   (50, 54)     2547\n",
       "13   (55, 59)     2077\n",
       "14   (60, 64)     1272\n",
       "15   (65, 69)      641\n",
       "16   (70, 74)      427\n",
       "17  (74, 100)      657"
      ]
     },
     "execution_count": 50,
     "metadata": {},
     "output_type": "execute_result"
    }
   ],
   "source": [
    "tabla_conteo_por_edades = tabla_conteo_por_edades.drop([0])\n",
    "\n",
    "tabla_conteo_por_edades"
   ]
  },
  {
   "cell_type": "markdown",
   "metadata": {},
   "source": [
    "**Accidents with medical consequences**\n",
    "\n",
    "Now we want to know how many accidents required medical intervention or even resulted in death, per each age group."
   ]
  },
  {
   "cell_type": "code",
   "execution_count": 51,
   "metadata": {},
   "outputs": [
    {
     "data": {
      "text/html": [
       "<div>\n",
       "<style scoped>\n",
       "    .dataframe tbody tr th:only-of-type {\n",
       "        vertical-align: middle;\n",
       "    }\n",
       "\n",
       "    .dataframe tbody tr th {\n",
       "        vertical-align: top;\n",
       "    }\n",
       "\n",
       "    .dataframe thead th {\n",
       "        text-align: right;\n",
       "    }\n",
       "</style>\n",
       "<table border=\"1\" class=\"dataframe\">\n",
       "  <thead>\n",
       "    <tr style=\"text-align: right;\">\n",
       "      <th></th>\n",
       "      <th>Edad</th>\n",
       "      <th>NumAccsConLesiones</th>\n",
       "    </tr>\n",
       "  </thead>\n",
       "  <tbody>\n",
       "    <tr>\n",
       "      <th>1</th>\n",
       "      <td>(0, 5)</td>\n",
       "      <td>107</td>\n",
       "    </tr>\n",
       "    <tr>\n",
       "      <th>2</th>\n",
       "      <td>(6, 9)</td>\n",
       "      <td>73</td>\n",
       "    </tr>\n",
       "    <tr>\n",
       "      <th>3</th>\n",
       "      <td>(10, 14)</td>\n",
       "      <td>135</td>\n",
       "    </tr>\n",
       "    <tr>\n",
       "      <th>4</th>\n",
       "      <td>(15, 17)</td>\n",
       "      <td>114</td>\n",
       "    </tr>\n",
       "    <tr>\n",
       "      <th>5</th>\n",
       "      <td>(18, 20)</td>\n",
       "      <td>325</td>\n",
       "    </tr>\n",
       "    <tr>\n",
       "      <th>6</th>\n",
       "      <td>(21, 24)</td>\n",
       "      <td>720</td>\n",
       "    </tr>\n",
       "    <tr>\n",
       "      <th>7</th>\n",
       "      <td>(25, 29)</td>\n",
       "      <td>1184</td>\n",
       "    </tr>\n",
       "    <tr>\n",
       "      <th>8</th>\n",
       "      <td>(30, 34)</td>\n",
       "      <td>1098</td>\n",
       "    </tr>\n",
       "    <tr>\n",
       "      <th>9</th>\n",
       "      <td>(35, 39)</td>\n",
       "      <td>944</td>\n",
       "    </tr>\n",
       "    <tr>\n",
       "      <th>10</th>\n",
       "      <td>(40, 44)</td>\n",
       "      <td>899</td>\n",
       "    </tr>\n",
       "    <tr>\n",
       "      <th>11</th>\n",
       "      <td>(45, 49)</td>\n",
       "      <td>735</td>\n",
       "    </tr>\n",
       "    <tr>\n",
       "      <th>12</th>\n",
       "      <td>(50, 54)</td>\n",
       "      <td>587</td>\n",
       "    </tr>\n",
       "    <tr>\n",
       "      <th>13</th>\n",
       "      <td>(55, 59)</td>\n",
       "      <td>493</td>\n",
       "    </tr>\n",
       "    <tr>\n",
       "      <th>14</th>\n",
       "      <td>(60, 64)</td>\n",
       "      <td>281</td>\n",
       "    </tr>\n",
       "    <tr>\n",
       "      <th>15</th>\n",
       "      <td>(65, 69)</td>\n",
       "      <td>153</td>\n",
       "    </tr>\n",
       "    <tr>\n",
       "      <th>16</th>\n",
       "      <td>(70, 74)</td>\n",
       "      <td>129</td>\n",
       "    </tr>\n",
       "    <tr>\n",
       "      <th>17</th>\n",
       "      <td>(74, 100)</td>\n",
       "      <td>260</td>\n",
       "    </tr>\n",
       "  </tbody>\n",
       "</table>\n",
       "</div>"
      ],
      "text/plain": [
       "         Edad  NumAccsConLesiones\n",
       "1      (0, 5)                 107\n",
       "2      (6, 9)                  73\n",
       "3    (10, 14)                 135\n",
       "4    (15, 17)                 114\n",
       "5    (18, 20)                 325\n",
       "6    (21, 24)                 720\n",
       "7    (25, 29)                1184\n",
       "8    (30, 34)                1098\n",
       "9    (35, 39)                 944\n",
       "10   (40, 44)                 899\n",
       "11   (45, 49)                 735\n",
       "12   (50, 54)                 587\n",
       "13   (55, 59)                 493\n",
       "14   (60, 64)                 281\n",
       "15   (65, 69)                 153\n",
       "16   (70, 74)                 129\n",
       "17  (74, 100)                 260"
      ]
     },
     "execution_count": 51,
     "metadata": {},
     "output_type": "execute_result"
    }
   ],
   "source": [
    "tabla_conteo_por_edades_con_lesiones = tabla.groupby('RANGO DE EDAD').sum().reset_index()\n",
    "\n",
    "tabla_conteo_por_edades_con_lesiones = tabla_conteo_por_edades_con_lesiones.rename(\n",
    "    {'RANGO DE EDAD': 'Edad', 'LESIVIDAD*': 'NumAccsConLesiones'}, axis='columns')\n",
    "\n",
    "tabla_conteo_por_edades_con_lesiones = tabla_conteo_por_edades_con_lesiones.drop([0])\n",
    "\n",
    "tabla_conteo_por_edades_con_lesiones\n"
   ]
  },
  {
   "cell_type": "markdown",
   "metadata": {},
   "source": [
    "**Union of two tables**\n",
    "\n",
    "Now we wish to combine the two tables using the Age variable as a reference, like the 'Inner Join' operation in SQL."
   ]
  },
  {
   "cell_type": "code",
   "execution_count": 52,
   "metadata": {},
   "outputs": [
    {
     "data": {
      "text/html": [
       "<div>\n",
       "<style scoped>\n",
       "    .dataframe tbody tr th:only-of-type {\n",
       "        vertical-align: middle;\n",
       "    }\n",
       "\n",
       "    .dataframe tbody tr th {\n",
       "        vertical-align: top;\n",
       "    }\n",
       "\n",
       "    .dataframe thead th {\n",
       "        text-align: right;\n",
       "    }\n",
       "</style>\n",
       "<table border=\"1\" class=\"dataframe\">\n",
       "  <thead>\n",
       "    <tr style=\"text-align: right;\">\n",
       "      <th></th>\n",
       "      <th>Edad</th>\n",
       "      <th>NumAccs</th>\n",
       "      <th>NumAccsConLesiones</th>\n",
       "    </tr>\n",
       "  </thead>\n",
       "  <tbody>\n",
       "    <tr>\n",
       "      <th>0</th>\n",
       "      <td>(0, 5)</td>\n",
       "      <td>289</td>\n",
       "      <td>107</td>\n",
       "    </tr>\n",
       "    <tr>\n",
       "      <th>1</th>\n",
       "      <td>(6, 9)</td>\n",
       "      <td>175</td>\n",
       "      <td>73</td>\n",
       "    </tr>\n",
       "    <tr>\n",
       "      <th>2</th>\n",
       "      <td>(10, 14)</td>\n",
       "      <td>305</td>\n",
       "      <td>135</td>\n",
       "    </tr>\n",
       "    <tr>\n",
       "      <th>3</th>\n",
       "      <td>(15, 17)</td>\n",
       "      <td>250</td>\n",
       "      <td>114</td>\n",
       "    </tr>\n",
       "    <tr>\n",
       "      <th>4</th>\n",
       "      <td>(18, 20)</td>\n",
       "      <td>978</td>\n",
       "      <td>325</td>\n",
       "    </tr>\n",
       "    <tr>\n",
       "      <th>5</th>\n",
       "      <td>(21, 24)</td>\n",
       "      <td>2226</td>\n",
       "      <td>720</td>\n",
       "    </tr>\n",
       "    <tr>\n",
       "      <th>6</th>\n",
       "      <td>(25, 29)</td>\n",
       "      <td>3437</td>\n",
       "      <td>1184</td>\n",
       "    </tr>\n",
       "    <tr>\n",
       "      <th>7</th>\n",
       "      <td>(30, 34)</td>\n",
       "      <td>3362</td>\n",
       "      <td>1098</td>\n",
       "    </tr>\n",
       "    <tr>\n",
       "      <th>8</th>\n",
       "      <td>(35, 39)</td>\n",
       "      <td>3332</td>\n",
       "      <td>944</td>\n",
       "    </tr>\n",
       "    <tr>\n",
       "      <th>9</th>\n",
       "      <td>(40, 44)</td>\n",
       "      <td>3399</td>\n",
       "      <td>899</td>\n",
       "    </tr>\n",
       "    <tr>\n",
       "      <th>10</th>\n",
       "      <td>(45, 49)</td>\n",
       "      <td>3084</td>\n",
       "      <td>735</td>\n",
       "    </tr>\n",
       "    <tr>\n",
       "      <th>11</th>\n",
       "      <td>(50, 54)</td>\n",
       "      <td>2547</td>\n",
       "      <td>587</td>\n",
       "    </tr>\n",
       "    <tr>\n",
       "      <th>12</th>\n",
       "      <td>(55, 59)</td>\n",
       "      <td>2077</td>\n",
       "      <td>493</td>\n",
       "    </tr>\n",
       "    <tr>\n",
       "      <th>13</th>\n",
       "      <td>(60, 64)</td>\n",
       "      <td>1272</td>\n",
       "      <td>281</td>\n",
       "    </tr>\n",
       "    <tr>\n",
       "      <th>14</th>\n",
       "      <td>(65, 69)</td>\n",
       "      <td>641</td>\n",
       "      <td>153</td>\n",
       "    </tr>\n",
       "    <tr>\n",
       "      <th>15</th>\n",
       "      <td>(70, 74)</td>\n",
       "      <td>427</td>\n",
       "      <td>129</td>\n",
       "    </tr>\n",
       "    <tr>\n",
       "      <th>16</th>\n",
       "      <td>(74, 100)</td>\n",
       "      <td>657</td>\n",
       "      <td>260</td>\n",
       "    </tr>\n",
       "  </tbody>\n",
       "</table>\n",
       "</div>"
      ],
      "text/plain": [
       "         Edad  NumAccs  NumAccsConLesiones\n",
       "0      (0, 5)      289                 107\n",
       "1      (6, 9)      175                  73\n",
       "2    (10, 14)      305                 135\n",
       "3    (15, 17)      250                 114\n",
       "4    (18, 20)      978                 325\n",
       "5    (21, 24)     2226                 720\n",
       "6    (25, 29)     3437                1184\n",
       "7    (30, 34)     3362                1098\n",
       "8    (35, 39)     3332                 944\n",
       "9    (40, 44)     3399                 899\n",
       "10   (45, 49)     3084                 735\n",
       "11   (50, 54)     2547                 587\n",
       "12   (55, 59)     2077                 493\n",
       "13   (60, 64)     1272                 281\n",
       "14   (65, 69)      641                 153\n",
       "15   (70, 74)      427                 129\n",
       "16  (74, 100)      657                 260"
      ]
     },
     "execution_count": 52,
     "metadata": {},
     "output_type": "execute_result"
    }
   ],
   "source": [
    "frame = [tabla_conteo_por_edades_con_lesiones, tabla_conteo_por_edades]\n",
    "\n",
    "tabla_joined = pandas.merge(\n",
    "    tabla_conteo_por_edades,\n",
    "    tabla_conteo_por_edades_con_lesiones,\n",
    ")\n",
    "\n",
    "tabla_joined"
   ]
  },
  {
   "cell_type": "markdown",
   "metadata": {},
   "source": [
    "**Accidents with damage proportion**\n",
    "\n",
    "Now we are going to generate another column making a calculation with the data in the existing columns."
   ]
  },
  {
   "cell_type": "code",
   "execution_count": 53,
   "metadata": {
    "scrolled": true
   },
   "outputs": [
    {
     "data": {
      "text/html": [
       "<div>\n",
       "<style scoped>\n",
       "    .dataframe tbody tr th:only-of-type {\n",
       "        vertical-align: middle;\n",
       "    }\n",
       "\n",
       "    .dataframe tbody tr th {\n",
       "        vertical-align: top;\n",
       "    }\n",
       "\n",
       "    .dataframe thead th {\n",
       "        text-align: right;\n",
       "    }\n",
       "</style>\n",
       "<table border=\"1\" class=\"dataframe\">\n",
       "  <thead>\n",
       "    <tr style=\"text-align: right;\">\n",
       "      <th></th>\n",
       "      <th>Edad</th>\n",
       "      <th>NumAccs</th>\n",
       "      <th>NumAccsConLesiones</th>\n",
       "      <th>PropLesiones</th>\n",
       "    </tr>\n",
       "  </thead>\n",
       "  <tbody>\n",
       "    <tr>\n",
       "      <th>0</th>\n",
       "      <td>(0, 5)</td>\n",
       "      <td>289</td>\n",
       "      <td>107</td>\n",
       "      <td>37.024221</td>\n",
       "    </tr>\n",
       "    <tr>\n",
       "      <th>1</th>\n",
       "      <td>(6, 9)</td>\n",
       "      <td>175</td>\n",
       "      <td>73</td>\n",
       "      <td>41.714286</td>\n",
       "    </tr>\n",
       "    <tr>\n",
       "      <th>2</th>\n",
       "      <td>(10, 14)</td>\n",
       "      <td>305</td>\n",
       "      <td>135</td>\n",
       "      <td>44.262295</td>\n",
       "    </tr>\n",
       "    <tr>\n",
       "      <th>3</th>\n",
       "      <td>(15, 17)</td>\n",
       "      <td>250</td>\n",
       "      <td>114</td>\n",
       "      <td>45.600000</td>\n",
       "    </tr>\n",
       "    <tr>\n",
       "      <th>4</th>\n",
       "      <td>(18, 20)</td>\n",
       "      <td>978</td>\n",
       "      <td>325</td>\n",
       "      <td>33.231084</td>\n",
       "    </tr>\n",
       "    <tr>\n",
       "      <th>5</th>\n",
       "      <td>(21, 24)</td>\n",
       "      <td>2226</td>\n",
       "      <td>720</td>\n",
       "      <td>32.345013</td>\n",
       "    </tr>\n",
       "    <tr>\n",
       "      <th>6</th>\n",
       "      <td>(25, 29)</td>\n",
       "      <td>3437</td>\n",
       "      <td>1184</td>\n",
       "      <td>34.448647</td>\n",
       "    </tr>\n",
       "    <tr>\n",
       "      <th>7</th>\n",
       "      <td>(30, 34)</td>\n",
       "      <td>3362</td>\n",
       "      <td>1098</td>\n",
       "      <td>32.659131</td>\n",
       "    </tr>\n",
       "    <tr>\n",
       "      <th>8</th>\n",
       "      <td>(35, 39)</td>\n",
       "      <td>3332</td>\n",
       "      <td>944</td>\n",
       "      <td>28.331333</td>\n",
       "    </tr>\n",
       "    <tr>\n",
       "      <th>9</th>\n",
       "      <td>(40, 44)</td>\n",
       "      <td>3399</td>\n",
       "      <td>899</td>\n",
       "      <td>26.448956</td>\n",
       "    </tr>\n",
       "    <tr>\n",
       "      <th>10</th>\n",
       "      <td>(45, 49)</td>\n",
       "      <td>3084</td>\n",
       "      <td>735</td>\n",
       "      <td>23.832685</td>\n",
       "    </tr>\n",
       "    <tr>\n",
       "      <th>11</th>\n",
       "      <td>(50, 54)</td>\n",
       "      <td>2547</td>\n",
       "      <td>587</td>\n",
       "      <td>23.046722</td>\n",
       "    </tr>\n",
       "    <tr>\n",
       "      <th>12</th>\n",
       "      <td>(55, 59)</td>\n",
       "      <td>2077</td>\n",
       "      <td>493</td>\n",
       "      <td>23.736158</td>\n",
       "    </tr>\n",
       "    <tr>\n",
       "      <th>13</th>\n",
       "      <td>(60, 64)</td>\n",
       "      <td>1272</td>\n",
       "      <td>281</td>\n",
       "      <td>22.091195</td>\n",
       "    </tr>\n",
       "    <tr>\n",
       "      <th>14</th>\n",
       "      <td>(65, 69)</td>\n",
       "      <td>641</td>\n",
       "      <td>153</td>\n",
       "      <td>23.868955</td>\n",
       "    </tr>\n",
       "    <tr>\n",
       "      <th>15</th>\n",
       "      <td>(70, 74)</td>\n",
       "      <td>427</td>\n",
       "      <td>129</td>\n",
       "      <td>30.210773</td>\n",
       "    </tr>\n",
       "    <tr>\n",
       "      <th>16</th>\n",
       "      <td>(74, 100)</td>\n",
       "      <td>657</td>\n",
       "      <td>260</td>\n",
       "      <td>39.573820</td>\n",
       "    </tr>\n",
       "  </tbody>\n",
       "</table>\n",
       "</div>"
      ],
      "text/plain": [
       "         Edad  NumAccs  NumAccsConLesiones  PropLesiones\n",
       "0      (0, 5)      289                 107     37.024221\n",
       "1      (6, 9)      175                  73     41.714286\n",
       "2    (10, 14)      305                 135     44.262295\n",
       "3    (15, 17)      250                 114     45.600000\n",
       "4    (18, 20)      978                 325     33.231084\n",
       "5    (21, 24)     2226                 720     32.345013\n",
       "6    (25, 29)     3437                1184     34.448647\n",
       "7    (30, 34)     3362                1098     32.659131\n",
       "8    (35, 39)     3332                 944     28.331333\n",
       "9    (40, 44)     3399                 899     26.448956\n",
       "10   (45, 49)     3084                 735     23.832685\n",
       "11   (50, 54)     2547                 587     23.046722\n",
       "12   (55, 59)     2077                 493     23.736158\n",
       "13   (60, 64)     1272                 281     22.091195\n",
       "14   (65, 69)      641                 153     23.868955\n",
       "15   (70, 74)      427                 129     30.210773\n",
       "16  (74, 100)      657                 260     39.573820"
      ]
     },
     "execution_count": 53,
     "metadata": {},
     "output_type": "execute_result"
    }
   ],
   "source": [
    "tabla_joined_prop = tabla_joined\n",
    "\n",
    "tabla_joined_prop['PropLesiones'] = (tabla_joined_prop.NumAccsConLesiones / tabla_joined_prop.NumAccs) * 100\n",
    "\n",
    "tabla_joined_prop"
   ]
  },
  {
   "cell_type": "markdown",
   "metadata": {},
   "source": [
    "**Graph**\n",
    "\n",
    "Now we are going to represent this in a graph:"
   ]
  },
  {
   "cell_type": "code",
   "execution_count": 55,
   "metadata": {
    "scrolled": true
   },
   "outputs": [
    {
     "data": {
      "image/png": "[encoded data removed]",
      "text/plain": [
       "<Figure size 432x360 with 1 Axes>"
      ]
     },
     "metadata": {
      "needs_background": "light"
     },
     "output_type": "display_data"
    }
   ],
   "source": [
    "tabla_joined_prop_plt = tabla_joined_prop\n",
    "\n",
    "tabla_joined_prop_plt['Edad'] = tabla_joined_prop_plt['Edad'].apply(str)\n",
    "\n",
    "import matplotlib.pyplot as plt\n",
    "\n",
    "rangos = list(tabla_joined_prop_plt['Edad'])\n",
    "porcentajes = list(tabla_joined_prop_plt['PropLesiones'])\n",
    "\n",
    "ypos = numpy.arange(len(rangos))\n",
    "\n",
    "plt.xticks(ypos, rangos, rotation = 90)\n",
    "plt.xlabel('Edad')\n",
    "plt.bar(ypos, porcentajes, label = 'PropLesiones')\n",
    "plt.legend()\n",
    "\n",
    "plt.show()"
   ]
  }
 ],
 "metadata": {
  "kernelspec": {
   "display_name": "Python 3 (ipykernel)",
   "language": "python",
   "name": "python3"
  },
  "language_info": {
   "codemirror_mode": {
    "name": "ipython",
    "version": 3
   },
   "file_extension": ".py",
   "mimetype": "text/x-python",
   "name": "python",
   "nbconvert_exporter": "python",
   "pygments_lexer": "ipython3",
   "version": "3.9.7"
  }
 },
 "nbformat": 4,
 "nbformat_minor": 2
}
